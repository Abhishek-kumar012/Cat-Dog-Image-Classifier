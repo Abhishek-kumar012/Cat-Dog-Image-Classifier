{
 "cells": [
  {
   "cell_type": "code",
   "execution_count": 1,
   "id": "e63c6391",
   "metadata": {},
   "outputs": [
    {
     "name": "stderr",
     "output_type": "stream",
     "text": [
      "/home/abhi/.local/lib/python3.10/site-packages/scipy/__init__.py:155: UserWarning: A NumPy version >=1.18.5 and <1.26.0 is required for this version of SciPy (detected version 1.26.3\n",
      "  warnings.warn(f\"A NumPy version >={np_minversion} and <{np_maxversion}\"\n"
     ]
    }
   ],
   "source": [
    "import numpy as np\n",
    "import pandas as pd\n",
    "from pathlib import Path\n",
    "import os.path\n",
    "import matplotlib.pyplot as plt\n",
    "import seaborn as sns\n",
    "from sklearn.model_selection import train_test_split\n",
    "import tensorflow as tf\n",
    "from sklearn.metrics import confusion_matrix, classification_report\n",
    "\n",
    "import os, cv2, re, random\n",
    "import numpy as np\n",
    "import pandas as pd\n",
    "from keras.preprocessing.image import ImageDataGenerator\n",
    "from keras.preprocessing.image import img_to_array, load_img\n",
    "from keras import layers, models, optimizers\n",
    "from keras import backend as K\n",
    "from sklearn.model_selection import train_test_split"
   ]
  },
  {
   "cell_type": "code",
   "execution_count": 2,
   "id": "66fb0298",
   "metadata": {},
   "outputs": [],
   "source": [
    "image_dir = Path('Dog and Cat .png')"
   ]
  },
  {
   "cell_type": "markdown",
   "id": "4e5a8495",
   "metadata": {},
   "source": [
    "# Create File DataFrame"
   ]
  },
  {
   "cell_type": "code",
   "execution_count": 3,
   "id": "2116ec3e",
   "metadata": {},
   "outputs": [],
   "source": [
    "filepaths = list(image_dir.glob(r'**/*.png'))\n",
    "labels = list(map(lambda x: os.path.split(os.path.split(x)[0])[1], filepaths))\n",
    "\n",
    "filepaths = pd.Series(filepaths, name='Filepath').astype(str)\n",
    "labels = pd.Series(labels, name='Label')\n",
    "\n",
    "image_df = pd.concat([filepaths, labels], axis=1)\n"
   ]
  },
  {
   "cell_type": "code",
   "execution_count": 4,
   "id": "3041ee35",
   "metadata": {},
   "outputs": [
    {
     "data": {
      "text/html": [
       "<div>\n",
       "<style scoped>\n",
       "    .dataframe tbody tr th:only-of-type {\n",
       "        vertical-align: middle;\n",
       "    }\n",
       "\n",
       "    .dataframe tbody tr th {\n",
       "        vertical-align: top;\n",
       "    }\n",
       "\n",
       "    .dataframe thead th {\n",
       "        text-align: right;\n",
       "    }\n",
       "</style>\n",
       "<table border=\"1\" class=\"dataframe\">\n",
       "  <thead>\n",
       "    <tr style=\"text-align: right;\">\n",
       "      <th></th>\n",
       "      <th>Filepath</th>\n",
       "      <th>Label</th>\n",
       "    </tr>\n",
       "  </thead>\n",
       "  <tbody>\n",
       "    <tr>\n",
       "      <th>0</th>\n",
       "      <td>Dog and Cat .png/Cat/126.png</td>\n",
       "      <td>Cat</td>\n",
       "    </tr>\n",
       "    <tr>\n",
       "      <th>1</th>\n",
       "      <td>Dog and Cat .png/Cat/t51.png</td>\n",
       "      <td>Cat</td>\n",
       "    </tr>\n",
       "    <tr>\n",
       "      <th>2</th>\n",
       "      <td>Dog and Cat .png/Cat/50.png</td>\n",
       "      <td>Cat</td>\n",
       "    </tr>\n",
       "    <tr>\n",
       "      <th>3</th>\n",
       "      <td>Dog and Cat .png/Cat/210.png</td>\n",
       "      <td>Cat</td>\n",
       "    </tr>\n",
       "    <tr>\n",
       "      <th>4</th>\n",
       "      <td>Dog and Cat .png/Cat/195.png</td>\n",
       "      <td>Cat</td>\n",
       "    </tr>\n",
       "    <tr>\n",
       "      <th>...</th>\n",
       "      <td>...</td>\n",
       "      <td>...</td>\n",
       "    </tr>\n",
       "    <tr>\n",
       "      <th>994</th>\n",
       "      <td>Dog and Cat .png/Dog/g98.png</td>\n",
       "      <td>Dog</td>\n",
       "    </tr>\n",
       "    <tr>\n",
       "      <th>995</th>\n",
       "      <td>Dog and Cat .png/Dog/d362.png</td>\n",
       "      <td>Dog</td>\n",
       "    </tr>\n",
       "    <tr>\n",
       "      <th>996</th>\n",
       "      <td>Dog and Cat .png/Dog/d297.png</td>\n",
       "      <td>Dog</td>\n",
       "    </tr>\n",
       "    <tr>\n",
       "      <th>997</th>\n",
       "      <td>Dog and Cat .png/Dog/d19.png</td>\n",
       "      <td>Dog</td>\n",
       "    </tr>\n",
       "    <tr>\n",
       "      <th>998</th>\n",
       "      <td>Dog and Cat .png/Dog/d67.png</td>\n",
       "      <td>Dog</td>\n",
       "    </tr>\n",
       "  </tbody>\n",
       "</table>\n",
       "<p>999 rows × 2 columns</p>\n",
       "</div>"
      ],
      "text/plain": [
       "                          Filepath Label\n",
       "0     Dog and Cat .png/Cat/126.png   Cat\n",
       "1     Dog and Cat .png/Cat/t51.png   Cat\n",
       "2      Dog and Cat .png/Cat/50.png   Cat\n",
       "3     Dog and Cat .png/Cat/210.png   Cat\n",
       "4     Dog and Cat .png/Cat/195.png   Cat\n",
       "..                             ...   ...\n",
       "994   Dog and Cat .png/Dog/g98.png   Dog\n",
       "995  Dog and Cat .png/Dog/d362.png   Dog\n",
       "996  Dog and Cat .png/Dog/d297.png   Dog\n",
       "997   Dog and Cat .png/Dog/d19.png   Dog\n",
       "998   Dog and Cat .png/Dog/d67.png   Dog\n",
       "\n",
       "[999 rows x 2 columns]"
      ]
     },
     "execution_count": 4,
     "metadata": {},
     "output_type": "execute_result"
    }
   ],
   "source": [
    "image_df"
   ]
  },
  {
   "cell_type": "markdown",
   "id": "295a701f",
   "metadata": {},
   "source": [
    "# Load Image Data"
   ]
  },
  {
   "cell_type": "code",
   "execution_count": 5,
   "id": "b0175d49",
   "metadata": {},
   "outputs": [],
   "source": [
    "train_df, test_df = train_test_split(image_df, train_size=0.7, shuffle=True, random_state=1)"
   ]
  },
  {
   "cell_type": "code",
   "execution_count": 6,
   "id": "e19f1f81",
   "metadata": {},
   "outputs": [],
   "source": [
    "train_generator = tf.keras.preprocessing.image.ImageDataGenerator(\n",
    "    rescale=1./255,\n",
    "    horizontal_flip=True,\n",
    "    width_shift_range=0.2,\n",
    "    height_shift_range=0.2,\n",
    "    validation_split=0.2\n",
    ")\n",
    "\n",
    "test_generator = tf.keras.preprocessing.image.ImageDataGenerator(\n",
    "    rescale=1./255\n",
    ")\n"
   ]
  },
  {
   "cell_type": "code",
   "execution_count": 7,
   "id": "4398ad8d",
   "metadata": {},
   "outputs": [
    {
     "name": "stdout",
     "output_type": "stream",
     "text": [
      "Found 560 validated image filenames belonging to 2 classes.\n",
      "Found 139 validated image filenames belonging to 2 classes.\n",
      "Found 300 validated image filenames belonging to 2 classes.\n"
     ]
    }
   ],
   "source": [
    "train_images = train_generator.flow_from_dataframe(\n",
    "    dataframe=train_df,\n",
    "    x_col='Filepath',\n",
    "    y_col='Label',\n",
    "    target_size=(224, 224),\n",
    "    color_mode='rgb',\n",
    "    class_mode='binary',\n",
    "    batch_size=32,\n",
    "    shuffle=True,\n",
    "    seed=42,\n",
    "    subset='training'\n",
    ")\n",
    "\n",
    "val_images = train_generator.flow_from_dataframe(\n",
    "    dataframe=train_df,\n",
    "    x_col='Filepath',\n",
    "    y_col='Label',\n",
    "    target_size=(224, 224),\n",
    "    color_mode='rgb',\n",
    "    class_mode='binary',\n",
    "    batch_size=32,\n",
    "    shuffle=True,\n",
    "    seed=42,\n",
    "    subset='validation'\n",
    ")\n",
    "\n",
    "test_images = test_generator.flow_from_dataframe(\n",
    "    dataframe=test_df,\n",
    "    x_col='Filepath',\n",
    "    y_col='Label',\n",
    "    target_size=(224, 224),\n",
    "    color_mode='rgb',\n",
    "    class_mode='binary',\n",
    "    batch_size=32,\n",
    "    shuffle=False\n",
    ")\n",
    "\n"
   ]
  },
  {
   "cell_type": "markdown",
   "id": "1c9d4d82",
   "metadata": {},
   "source": [
    "# Training"
   ]
  },
  {
   "cell_type": "code",
   "execution_count": 8,
   "id": "2696bf40",
   "metadata": {},
   "outputs": [
    {
     "name": "stdout",
     "output_type": "stream",
     "text": [
      "Epoch 1/100\n",
      "18/18 [==============================] - 33s 2s/step - loss: 0.6936 - accuracy: 0.4714 - val_loss: 0.6924 - val_accuracy: 0.5036 - lr: 0.0010\n",
      "Epoch 2/100\n",
      "18/18 [==============================] - 22s 1s/step - loss: 0.6923 - accuracy: 0.4750 - val_loss: 0.6919 - val_accuracy: 0.5540 - lr: 0.0010\n",
      "Epoch 3/100\n",
      "18/18 [==============================] - 22s 1s/step - loss: 0.6916 - accuracy: 0.5411 - val_loss: 0.6917 - val_accuracy: 0.5108 - lr: 0.0010\n",
      "Epoch 4/100\n",
      "18/18 [==============================] - 22s 1s/step - loss: 0.6898 - accuracy: 0.5357 - val_loss: 0.6928 - val_accuracy: 0.5036 - lr: 0.0010\n",
      "Epoch 5/100\n",
      "18/18 [==============================] - 22s 1s/step - loss: 0.6916 - accuracy: 0.5286 - val_loss: 0.6910 - val_accuracy: 0.4964 - lr: 0.0010\n",
      "Epoch 6/100\n",
      "18/18 [==============================] - 22s 1s/step - loss: 0.6920 - accuracy: 0.5089 - val_loss: 0.6937 - val_accuracy: 0.5036 - lr: 0.0010\n",
      "Epoch 7/100\n",
      "18/18 [==============================] - 22s 1s/step - loss: 0.6981 - accuracy: 0.4857 - val_loss: 0.6925 - val_accuracy: 0.5036 - lr: 0.0010\n",
      "Epoch 8/100\n",
      "18/18 [==============================] - 22s 1s/step - loss: 0.6894 - accuracy: 0.5446 - val_loss: 0.6878 - val_accuracy: 0.4892 - lr: 0.0010\n",
      "Epoch 9/100\n",
      "18/18 [==============================] - 22s 1s/step - loss: 0.6856 - accuracy: 0.5321 - val_loss: 0.6843 - val_accuracy: 0.4820 - lr: 0.0010\n",
      "Epoch 10/100\n",
      "18/18 [==============================] - 22s 1s/step - loss: 0.6797 - accuracy: 0.5732 - val_loss: 0.6764 - val_accuracy: 0.6043 - lr: 0.0010\n",
      "Epoch 11/100\n",
      "18/18 [==============================] - 22s 1s/step - loss: 0.6678 - accuracy: 0.6071 - val_loss: 0.6755 - val_accuracy: 0.6043 - lr: 0.0010\n",
      "Epoch 12/100\n",
      "18/18 [==============================] - 22s 1s/step - loss: 0.6603 - accuracy: 0.6054 - val_loss: 0.6680 - val_accuracy: 0.5899 - lr: 0.0010\n",
      "Epoch 13/100\n",
      "18/18 [==============================] - 22s 1s/step - loss: 0.6578 - accuracy: 0.6054 - val_loss: 0.6702 - val_accuracy: 0.5899 - lr: 0.0010\n",
      "Epoch 14/100\n",
      "18/18 [==============================] - 22s 1s/step - loss: 0.6610 - accuracy: 0.6054 - val_loss: 0.6799 - val_accuracy: 0.5540 - lr: 0.0010\n",
      "Epoch 15/100\n",
      "18/18 [==============================] - 22s 1s/step - loss: 0.6562 - accuracy: 0.6000 - val_loss: 0.6741 - val_accuracy: 0.5540 - lr: 0.0010\n",
      "Epoch 16/100\n",
      "18/18 [==============================] - 22s 1s/step - loss: 0.6549 - accuracy: 0.6071 - val_loss: 0.6669 - val_accuracy: 0.5971 - lr: 1.0000e-04\n",
      "Epoch 17/100\n",
      "18/18 [==============================] - 22s 1s/step - loss: 0.6463 - accuracy: 0.6250 - val_loss: 0.6588 - val_accuracy: 0.6187 - lr: 1.0000e-04\n",
      "Epoch 18/100\n",
      "18/18 [==============================] - 22s 1s/step - loss: 0.6473 - accuracy: 0.6268 - val_loss: 0.6590 - val_accuracy: 0.6115 - lr: 1.0000e-04\n",
      "Epoch 19/100\n",
      "18/18 [==============================] - 22s 1s/step - loss: 0.6473 - accuracy: 0.6268 - val_loss: 0.6587 - val_accuracy: 0.6331 - lr: 1.0000e-04\n",
      "Epoch 20/100\n",
      "18/18 [==============================] - 22s 1s/step - loss: 0.6501 - accuracy: 0.6161 - val_loss: 0.6651 - val_accuracy: 0.6043 - lr: 1.0000e-04\n",
      "Epoch 21/100\n",
      "18/18 [==============================] - 22s 1s/step - loss: 0.6474 - accuracy: 0.6250 - val_loss: 0.6647 - val_accuracy: 0.5971 - lr: 1.0000e-04\n",
      "Epoch 22/100\n",
      "18/18 [==============================] - 22s 1s/step - loss: 0.6478 - accuracy: 0.6161 - val_loss: 0.6566 - val_accuracy: 0.6331 - lr: 1.0000e-04\n",
      "Epoch 23/100\n",
      "18/18 [==============================] - 22s 1s/step - loss: 0.6491 - accuracy: 0.6179 - val_loss: 0.6561 - val_accuracy: 0.6115 - lr: 1.0000e-04\n",
      "Epoch 24/100\n",
      "18/18 [==============================] - 22s 1s/step - loss: 0.6446 - accuracy: 0.6161 - val_loss: 0.6604 - val_accuracy: 0.6403 - lr: 1.0000e-04\n",
      "Epoch 25/100\n",
      "18/18 [==============================] - 22s 1s/step - loss: 0.6453 - accuracy: 0.6286 - val_loss: 0.6513 - val_accuracy: 0.6115 - lr: 1.0000e-04\n",
      "Epoch 26/100\n",
      "18/18 [==============================] - 22s 1s/step - loss: 0.6460 - accuracy: 0.6321 - val_loss: 0.6587 - val_accuracy: 0.6115 - lr: 1.0000e-04\n",
      "Epoch 27/100\n",
      "18/18 [==============================] - 22s 1s/step - loss: 0.6457 - accuracy: 0.6286 - val_loss: 0.6623 - val_accuracy: 0.6187 - lr: 1.0000e-04\n",
      "Epoch 28/100\n",
      "18/18 [==============================] - 22s 1s/step - loss: 0.6444 - accuracy: 0.6232 - val_loss: 0.6590 - val_accuracy: 0.5899 - lr: 1.0000e-04\n",
      "Epoch 29/100\n",
      "18/18 [==============================] - 22s 1s/step - loss: 0.6422 - accuracy: 0.6464 - val_loss: 0.6629 - val_accuracy: 0.5899 - lr: 1.0000e-05\n",
      "Epoch 30/100\n",
      "18/18 [==============================] - 22s 1s/step - loss: 0.6437 - accuracy: 0.6339 - val_loss: 0.6555 - val_accuracy: 0.6259 - lr: 1.0000e-05\n"
     ]
    }
   ],
   "source": [
    "inputs = tf.keras.Input(shape=(224, 224, 3))\n",
    "x = tf.keras.layers.Conv2D(filters=16, kernel_size=(3, 3), activation='relu')(inputs)\n",
    "x = tf.keras.layers.MaxPool2D()(x)\n",
    "x = tf.keras.layers.Conv2D(filters=32, kernel_size=(3, 3), activation='relu')(x)\n",
    "x = tf.keras.layers.MaxPool2D()(x)\n",
    "x = tf.keras.layers.GlobalAveragePooling2D()(x)\n",
    "x = tf.keras.layers.Dense(128, activation='relu')(x)\n",
    "x = tf.keras.layers.Dense(128, activation='relu')(x)\n",
    "outputs = tf.keras.layers.Dense(1, activation='sigmoid')(x)\n",
    "\n",
    "model = tf.keras.Model(inputs=inputs, outputs=outputs)\n",
    "\n",
    "model.compile(\n",
    "    optimizer='adam',\n",
    "    loss='binary_crossentropy',\n",
    "    metrics=['accuracy']\n",
    ")\n",
    "\n",
    "history = model.fit(\n",
    "    train_images,\n",
    "    validation_data=val_images,\n",
    "    epochs=100,\n",
    "    callbacks=[\n",
    "        tf.keras.callbacks.EarlyStopping(\n",
    "            monitor='val_loss',\n",
    "            patience=5,\n",
    "            restore_best_weights=True\n",
    "        ),\n",
    "        tf.keras.callbacks.ReduceLROnPlateau(\n",
    "            monitor='val_loss',\n",
    "            patience=3\n",
    "        )\n",
    "    ]\n",
    ")"
   ]
  },
  {
   "cell_type": "markdown",
   "id": "2d8ef41d",
   "metadata": {},
   "source": [
    "# Results"
   ]
  },
  {
   "cell_type": "code",
   "execution_count": 9,
   "id": "ee137b02",
   "metadata": {},
   "outputs": [
    {
     "name": "stdout",
     "output_type": "stream",
     "text": [
      "    Test Loss: 0.63571\n",
      "Test Accuracy: 63.00%\n"
     ]
    }
   ],
   "source": [
    "results = model.evaluate(test_images, verbose=0)\n",
    "\n",
    "print(\"    Test Loss: {:.5f}\".format(results[0]))\n",
    "print(\"Test Accuracy: {:.2f}%\".format(results[1] * 100))"
   ]
  },
  {
   "cell_type": "code",
   "execution_count": 11,
   "id": "a7bfbbee",
   "metadata": {
    "scrolled": true
   },
   "outputs": [
    {
     "name": "stdout",
     "output_type": "stream",
     "text": [
      "10/10 [==============================] - 3s 307ms/step\n"
     ]
    },
    {
     "data": {
      "image/png": "[encoded data removed]",
      "text/plain": [
       "<Figure size 600x600 with 1 Axes>"
      ]
     },
     "metadata": {},
     "output_type": "display_data"
    },
    {
     "name": "stdout",
     "output_type": "stream",
     "text": [
      "Classification Report:\n",
      "----------------------\n",
      "               precision    recall  f1-score   support\n",
      "\n",
      "         CAT       0.64      0.58      0.61       149\n",
      "         DOG       0.62      0.68      0.65       151\n",
      "\n",
      "    accuracy                           0.63       300\n",
      "   macro avg       0.63      0.63      0.63       300\n",
      "weighted avg       0.63      0.63      0.63       300\n",
      "\n"
     ]
    }
   ],
   "source": [
    "# Make predictions on the test images\n",
    "predictions = (model.predict(test_images) >= 0.5).astype(int)\n",
    "\n",
    "# Compute the confusion matrix\n",
    "cm = confusion_matrix(test_images.labels, predictions, labels=[0, 1])\n",
    "\n",
    "# Generate a classification report\n",
    "clr = classification_report(test_images.labels, predictions, labels=[0, 1], target_names=[\"CAT\", \"DOG\"])\n",
    "\n",
    "# Plot the confusion matrix using seaborn and matplotlib\n",
    "plt.figure(figsize=(6, 6))\n",
    "sns.heatmap(cm, annot=True, fmt='g', vmin=0, cmap='Blues', cbar=False)\n",
    "plt.xticks(ticks=[0.5, 1.5], labels=[\"CAT\", \"DOG\"])\n",
    "plt.yticks(ticks=[0.5, 1.5], labels=[\"CAT\", \"DOG\"])\n",
    "plt.xlabel(\"Predicted\")\n",
    "plt.ylabel(\"Actual\")\n",
    "plt.title(\"Confusion Matrix\")\n",
    "plt.show()\n",
    "\n",
    "# Display the classification report\n",
    "print(\"Classification Report:\\n----------------------\\n\", clr)\n"
   ]
  },
  {
   "cell_type": "code",
   "execution_count": null,
   "id": "324dca56",
   "metadata": {},
   "outputs": [],
   "source": []
  },
  {
   "cell_type": "code",
   "execution_count": null,
   "id": "69437abf",
   "metadata": {},
   "outputs": [],
   "source": []
  }
 ],
 "metadata": {
  "kernelspec": {
   "display_name": "Python 3 (ipykernel)",
   "language": "python",
   "name": "python3"
  },
  "language_info": {
   "codemirror_mode": {
    "name": "ipython",
    "version": 3
   },
   "file_extension": ".py",
   "mimetype": "text/x-python",
   "name": "python",
   "nbconvert_exporter": "python",
   "pygments_lexer": "ipython3",
   "version": "3.10.12"
  }
 },
 "nbformat": 4,
 "nbformat_minor": 5
}
